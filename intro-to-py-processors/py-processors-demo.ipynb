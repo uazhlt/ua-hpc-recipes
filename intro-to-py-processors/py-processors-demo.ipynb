{
 "cells": [
  {
   "cell_type": "markdown",
   "metadata": {},
   "source": [
    "## `py-processors`\n",
    "\n",
    "See https://py-processors.readthedocs.io/en/latest/example.html for a walkthrough example."
   ]
  },
  {
   "cell_type": "code",
   "execution_count": null,
   "metadata": {},
   "outputs": [],
   "source": [
    "from processors.visualization import JupyterVisualizer as viz\n",
    "from processors import *\n",
    "# Launch the server with 6G of RAM\n",
    "API = ProcessorsAPI(port=8886, jvm_mem=\"-Xmx6G\")"
   ]
  },
  {
   "cell_type": "code",
   "execution_count": null,
   "metadata": {},
   "outputs": [],
   "source": [
    "text = \"To be loved by unicorns is the greatest gift of all.\"\n",
    "# .annotate() -> performs sentence segmentation, tokenization, \n",
    "# POS tagging, lemmatization, and dependency parsing\n",
    "doc = API.annotate(text)"
   ]
  },
  {
   "cell_type": "code",
   "execution_count": null,
   "metadata": {},
   "outputs": [],
   "source": [
    "viz.display_graph(doc.sentences[0], graph_name=\"stanford-collapsed\")"
   ]
  },
  {
   "cell_type": "code",
   "execution_count": null,
   "metadata": {},
   "outputs": [],
   "source": [
    "print(\"\\t\".join(sentence.words))\n",
    "print(\"\\t\".join(str(i) for i in range(sentence.length)))"
   ]
  },
  {
   "cell_type": "code",
   "execution_count": null,
   "metadata": {},
   "outputs": [],
   "source": [
    "sentence.graphs[\"stanford-collapsed\"].shortest_path(start=2, end=10)"
   ]
  },
  {
   "cell_type": "code",
   "execution_count": null,
   "metadata": {},
   "outputs": [],
   "source": [
    "sentence = doc.sentences[0]\n",
    "sentence.graphs.keys()"
   ]
  },
  {
   "cell_type": "code",
   "execution_count": null,
   "metadata": {},
   "outputs": [],
   "source": [
    "viz.display_graph(doc.sentences[0], graph_name=\"stanford-basic\")"
   ]
  },
  {
   "cell_type": "code",
   "execution_count": null,
   "metadata": {},
   "outputs": [],
   "source": [
    "sentence.graphs[\"stanford-basic\"].shortest_path(start=2, end=10)"
   ]
  }
 ],
 "metadata": {
  "kernelspec": {
   "display_name": "My example conda environment",
   "language": "python",
   "name": "ua-hlt"
  },
  "language_info": {
   "codemirror_mode": {
    "name": "ipython",
    "version": 3
   },
   "file_extension": ".py",
   "mimetype": "text/x-python",
   "name": "python",
   "nbconvert_exporter": "python",
   "pygments_lexer": "ipython3",
   "version": "3.7.5"
  }
 },
 "nbformat": 4,
 "nbformat_minor": 2
}
